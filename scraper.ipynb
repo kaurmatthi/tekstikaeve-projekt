{
 "cells": [
  {
   "cell_type": "code",
   "id": "initial_id",
   "metadata": {
    "collapsed": true,
    "ExecuteTime": {
     "end_time": "2024-12-17T08:27:38.005245Z",
     "start_time": "2024-12-17T08:27:32.856350Z"
    }
   },
   "source": [
    "import requests\n",
    "from bs4 import BeautifulSoup\n",
    "import json\n",
    "\n",
    "# URL of the page to scrape\n",
    "params = [\n",
    "    (\"semeval-2021\", \"2021semeval\"),\n",
    "    (\"semeval-2022\", \"2022semeval\"),\n",
    "    (\"semeval-2023\", \"2023semeval\"),\n",
    "    (\"semeval-2024\", \"2024semeval\"),\n",
    "]\n",
    "\n",
    "for param in params:\n",
    "    url = f\"https://aclanthology.org/events/{param[0]}/\"  # Replace with the actual URL\n",
    "\n",
    "    # Send a GET request to the page\n",
    "    response = requests.get(url)\n",
    "    response.raise_for_status()  # Ensure the request was successful\n",
    "\n",
    "    # Parse the page content\n",
    "    soup = BeautifulSoup(response.content, \"html.parser\")\n",
    "\n",
    "    # Find the main div containing the papers\n",
    "    main_div = soup.find(\"div\", id=f\"{param[1]}-1\")\n",
    "\n",
    "    # List to store extracted data\n",
    "    papers = []\n",
    "\n",
    "    if main_div:\n",
    "        # Find all <p> tags with the relevant class\n",
    "        paper_entries = main_div.find_all(\"p\", class_=\"d-sm-flex align-items-stretch\")\n",
    "\n",
    "        for entry in paper_entries:\n",
    "            # Extract the title\n",
    "            title_tag = entry.find(\"strong\").find(\"a\")\n",
    "            title = title_tag.text.strip() if title_tag else \"No title found\"\n",
    "\n",
    "            abs_link = entry.find(\"a\", string=\"abs\")  # Alternate approach matching by text\n",
    "            if not abs_link:\n",
    "                print(\"Abstract link not found in entry.\")  # Debug: Report missing link\n",
    "            else:\n",
    "                abs_id = abs_link[\"href\"].strip(\"#\")  # Remove the '#' prefix\n",
    "                # Find the div containing the abstract\n",
    "                abstract_div = main_div.find(\"div\", id=abs_id)\n",
    "                if abstract_div:\n",
    "                    card_body = abstract_div.find(\"div\", class_=\"card-body\")\n",
    "                    abstract = card_body.text.strip() if card_body else \"No abstract found\"\n",
    "                else:\n",
    "                    print(f\"No div found with id: {abs_id}\")  # Debug: Log missing abstract div\n",
    "                    abstract = \"No abstract found\"\n",
    "\n",
    "            # Append the paper's information\n",
    "            papers.append({\"title\": title, \"abstract\": \"No abstract found\" if not abs_link else abstract})\n",
    "\n",
    "    # Save the extracted data to a JSON file\n",
    "    output_file = f\"papers-{param[0]}.json\"\n",
    "    with open(output_file, \"w\", encoding=\"utf-8\") as f:\n",
    "        json.dump(papers, f, ensure_ascii=False, indent=4)\n",
    "\n",
    "    print(f\"Extracted {len(papers)} papers. Saved to {output_file}.\")\n"
   ],
   "outputs": [
    {
     "name": "stdout",
     "output_type": "stream",
     "text": [
      "Abstract link not found in entry.\n",
      "Extracted 187 papers. Saved to papers-semeval-2021.json.\n",
      "Abstract link not found in entry.\n",
      "Extracted 234 papers. Saved to papers-semeval-2022.json.\n",
      "Abstract link not found in entry.\n",
      "Extracted 319 papers. Saved to papers-semeval-2023.json.\n",
      "Abstract link not found in entry.\n",
      "Abstract link not found in entry.\n",
      "Extracted 280 papers. Saved to papers-semeval-2024.json.\n"
     ]
    }
   ],
   "execution_count": 1
  },
  {
   "metadata": {},
   "cell_type": "code",
   "outputs": [],
   "execution_count": null,
   "source": "",
   "id": "4930fabef34da853"
  }
 ],
 "metadata": {
  "kernelspec": {
   "display_name": "Python 3",
   "language": "python",
   "name": "python3"
  },
  "language_info": {
   "codemirror_mode": {
    "name": "ipython",
    "version": 2
   },
   "file_extension": ".py",
   "mimetype": "text/x-python",
   "name": "python",
   "nbconvert_exporter": "python",
   "pygments_lexer": "ipython2",
   "version": "2.7.6"
  }
 },
 "nbformat": 4,
 "nbformat_minor": 5
}
